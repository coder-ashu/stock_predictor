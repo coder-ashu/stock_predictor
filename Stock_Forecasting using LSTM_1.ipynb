{
 "cells": [
  {
   "cell_type": "markdown",
   "id": "6993ec02",
   "metadata": {},
   "source": [
    "# Step 1: Data Collection"
   ]
  },
  {
   "cell_type": "code",
   "execution_count": null,
   "id": "0ca8c99f",
   "metadata": {},
   "outputs": [
    {
     "name": "stdout",
     "output_type": "stream",
     "text": [
      "                           close  high   low  open  volume   adjClose  \\\n",
      "date                                                                    \n",
      "2018-01-02 00:00:00+00:00   5.08  5.09  4.72  4.79  313031  71.692394   \n",
      "2018-01-03 00:00:00+00:00   4.85  5.08  4.83  5.04  243688  68.446479   \n",
      "2018-01-04 00:00:00+00:00   4.96  4.99  4.75  4.85  247827  69.998873   \n",
      "2018-01-05 00:00:00+00:00   4.85  4.94  4.77  4.94  205471  68.446479   \n",
      "2018-01-08 00:00:00+00:00   4.88  4.94  4.65  4.84  158218  68.869859   \n",
      "\n",
      "                             adjHigh     adjLow    adjOpen  adjVolume  \\\n",
      "date                                                                    \n",
      "2018-01-02 00:00:00+00:00  71.833521  66.611831  67.599718      20868   \n",
      "2018-01-03 00:00:00+00:00  71.692394  68.164225  71.127887      16245   \n",
      "2018-01-04 00:00:00+00:00  70.422254  67.035211  68.446479      16521   \n",
      "2018-01-05 00:00:00+00:00  69.716620  67.317465  69.716620      13698   \n",
      "2018-01-08 00:00:00+00:00  69.716620  65.623944  68.305352      10547   \n",
      "\n",
      "                           divCash  splitFactor  \n",
      "date                                             \n",
      "2018-01-02 00:00:00+00:00      0.0          1.0  \n",
      "2018-01-03 00:00:00+00:00      0.0          1.0  \n",
      "2018-01-04 00:00:00+00:00      0.0          1.0  \n",
      "2018-01-05 00:00:00+00:00      0.0          1.0  \n",
      "2018-01-08 00:00:00+00:00      0.0          1.0  \n"
     ]
    }
   ],
   "source": [
    "from tiingo import TiingoClient\n",
    "\n",
    "\n",
    "config = {\n",
    "    'api_key': 'f15f38269f3d0b5b4eb89da55ae0890c311047c6'\n",
    "}\n",
    "\n",
    "client = TiingoClient(config)\n",
    "\n",
    "df = client.get_dataframe(\n",
    "    tickers='TCS',\n",
    "    startDate='2018-01-01',  \n",
    "    endDate='2023-01-01',   \n",
    "    frequency='daily'\n",
    ")\n",
    "\n",
    "print(df.head())\n"
   ]
  },
  {
   "cell_type": "code",
   "execution_count": 54,
   "id": "3a39d4df",
   "metadata": {},
   "outputs": [],
   "source": [
    "import pandas as pd\n",
    "import numpy as np"
   ]
  },
  {
   "cell_type": "code",
   "execution_count": 55,
   "id": "4163341e",
   "metadata": {},
   "outputs": [
    {
     "data": {
      "text/plain": [
       "1259"
      ]
     },
     "execution_count": 55,
     "metadata": {},
     "output_type": "execute_result"
    }
   ],
   "source": [
    "len(df)"
   ]
  },
  {
   "cell_type": "code",
   "execution_count": 56,
   "id": "ca2b7210",
   "metadata": {},
   "outputs": [
    {
     "data": {
      "text/html": [
       "<div>\n",
       "<style scoped>\n",
       "    .dataframe tbody tr th:only-of-type {\n",
       "        vertical-align: middle;\n",
       "    }\n",
       "\n",
       "    .dataframe tbody tr th {\n",
       "        vertical-align: top;\n",
       "    }\n",
       "\n",
       "    .dataframe thead th {\n",
       "        text-align: right;\n",
       "    }\n",
       "</style>\n",
       "<table border=\"1\" class=\"dataframe\">\n",
       "  <thead>\n",
       "    <tr style=\"text-align: right;\">\n",
       "      <th></th>\n",
       "      <th>close</th>\n",
       "      <th>high</th>\n",
       "      <th>low</th>\n",
       "      <th>open</th>\n",
       "      <th>volume</th>\n",
       "      <th>adjClose</th>\n",
       "      <th>adjHigh</th>\n",
       "      <th>adjLow</th>\n",
       "      <th>adjOpen</th>\n",
       "      <th>adjVolume</th>\n",
       "      <th>divCash</th>\n",
       "      <th>splitFactor</th>\n",
       "    </tr>\n",
       "    <tr>\n",
       "      <th>date</th>\n",
       "      <th></th>\n",
       "      <th></th>\n",
       "      <th></th>\n",
       "      <th></th>\n",
       "      <th></th>\n",
       "      <th></th>\n",
       "      <th></th>\n",
       "      <th></th>\n",
       "      <th></th>\n",
       "      <th></th>\n",
       "      <th></th>\n",
       "      <th></th>\n",
       "    </tr>\n",
       "  </thead>\n",
       "  <tbody>\n",
       "    <tr>\n",
       "      <th>2022-12-23 00:00:00+00:00</th>\n",
       "      <td>4.26</td>\n",
       "      <td>4.3200</td>\n",
       "      <td>4.1514</td>\n",
       "      <td>4.18</td>\n",
       "      <td>225019</td>\n",
       "      <td>63.90</td>\n",
       "      <td>64.8000</td>\n",
       "      <td>62.2710</td>\n",
       "      <td>62.70</td>\n",
       "      <td>15001</td>\n",
       "      <td>0.0</td>\n",
       "      <td>1.0</td>\n",
       "    </tr>\n",
       "    <tr>\n",
       "      <th>2022-12-27 00:00:00+00:00</th>\n",
       "      <td>4.21</td>\n",
       "      <td>4.2625</td>\n",
       "      <td>4.1350</td>\n",
       "      <td>4.23</td>\n",
       "      <td>319193</td>\n",
       "      <td>63.15</td>\n",
       "      <td>63.9375</td>\n",
       "      <td>62.0250</td>\n",
       "      <td>63.45</td>\n",
       "      <td>21279</td>\n",
       "      <td>0.0</td>\n",
       "      <td>1.0</td>\n",
       "    </tr>\n",
       "    <tr>\n",
       "      <th>2022-12-28 00:00:00+00:00</th>\n",
       "      <td>4.15</td>\n",
       "      <td>4.3000</td>\n",
       "      <td>4.1300</td>\n",
       "      <td>4.17</td>\n",
       "      <td>239526</td>\n",
       "      <td>62.25</td>\n",
       "      <td>64.5000</td>\n",
       "      <td>61.9500</td>\n",
       "      <td>62.55</td>\n",
       "      <td>15968</td>\n",
       "      <td>0.0</td>\n",
       "      <td>1.0</td>\n",
       "    </tr>\n",
       "    <tr>\n",
       "      <th>2022-12-29 00:00:00+00:00</th>\n",
       "      <td>4.30</td>\n",
       "      <td>4.3500</td>\n",
       "      <td>4.1115</td>\n",
       "      <td>4.15</td>\n",
       "      <td>249385</td>\n",
       "      <td>64.50</td>\n",
       "      <td>65.2500</td>\n",
       "      <td>61.6725</td>\n",
       "      <td>62.25</td>\n",
       "      <td>16625</td>\n",
       "      <td>0.0</td>\n",
       "      <td>1.0</td>\n",
       "    </tr>\n",
       "    <tr>\n",
       "      <th>2022-12-30 00:00:00+00:00</th>\n",
       "      <td>4.31</td>\n",
       "      <td>4.4000</td>\n",
       "      <td>4.2000</td>\n",
       "      <td>4.21</td>\n",
       "      <td>447692</td>\n",
       "      <td>64.65</td>\n",
       "      <td>66.0000</td>\n",
       "      <td>63.0000</td>\n",
       "      <td>63.15</td>\n",
       "      <td>29846</td>\n",
       "      <td>0.0</td>\n",
       "      <td>1.0</td>\n",
       "    </tr>\n",
       "  </tbody>\n",
       "</table>\n",
       "</div>"
      ],
      "text/plain": [
       "                           close    high     low  open  volume  adjClose  \\\n",
       "date                                                                       \n",
       "2022-12-23 00:00:00+00:00   4.26  4.3200  4.1514  4.18  225019     63.90   \n",
       "2022-12-27 00:00:00+00:00   4.21  4.2625  4.1350  4.23  319193     63.15   \n",
       "2022-12-28 00:00:00+00:00   4.15  4.3000  4.1300  4.17  239526     62.25   \n",
       "2022-12-29 00:00:00+00:00   4.30  4.3500  4.1115  4.15  249385     64.50   \n",
       "2022-12-30 00:00:00+00:00   4.31  4.4000  4.2000  4.21  447692     64.65   \n",
       "\n",
       "                           adjHigh   adjLow  adjOpen  adjVolume  divCash  \\\n",
       "date                                                                       \n",
       "2022-12-23 00:00:00+00:00  64.8000  62.2710    62.70      15001      0.0   \n",
       "2022-12-27 00:00:00+00:00  63.9375  62.0250    63.45      21279      0.0   \n",
       "2022-12-28 00:00:00+00:00  64.5000  61.9500    62.55      15968      0.0   \n",
       "2022-12-29 00:00:00+00:00  65.2500  61.6725    62.25      16625      0.0   \n",
       "2022-12-30 00:00:00+00:00  66.0000  63.0000    63.15      29846      0.0   \n",
       "\n",
       "                           splitFactor  \n",
       "date                                    \n",
       "2022-12-23 00:00:00+00:00          1.0  \n",
       "2022-12-27 00:00:00+00:00          1.0  \n",
       "2022-12-28 00:00:00+00:00          1.0  \n",
       "2022-12-29 00:00:00+00:00          1.0  \n",
       "2022-12-30 00:00:00+00:00          1.0  "
      ]
     },
     "execution_count": 56,
     "metadata": {},
     "output_type": "execute_result"
    }
   ],
   "source": [
    "df.tail()"
   ]
  },
  {
   "cell_type": "code",
   "execution_count": 57,
   "id": "35a56191",
   "metadata": {},
   "outputs": [
    {
     "data": {
      "text/plain": [
       "0       5.08\n",
       "1       4.85\n",
       "2       4.96\n",
       "3       4.85\n",
       "4       4.88\n",
       "        ... \n",
       "1254    4.26\n",
       "1255    4.21\n",
       "1256    4.15\n",
       "1257    4.30\n",
       "1258    4.31\n",
       "Name: close, Length: 1259, dtype: float64"
      ]
     },
     "execution_count": 57,
     "metadata": {},
     "output_type": "execute_result"
    }
   ],
   "source": [
    "df=df.reset_index()['close']\n",
    "df"
   ]
  },
  {
   "cell_type": "code",
   "execution_count": 58,
   "id": "9df0b38e",
   "metadata": {},
   "outputs": [
    {
     "data": {
      "text/plain": [
       "[<matplotlib.lines.Line2D at 0x2315c69c260>]"
      ]
     },
     "execution_count": 58,
     "metadata": {},
     "output_type": "execute_result"
    },
    {
     "data": {
      "image/png": "[encoded data removed]",
      "text/plain": [
       "<Figure size 640x480 with 1 Axes>"
      ]
     },
     "metadata": {},
     "output_type": "display_data"
    }
   ],
   "source": [
    "import matplotlib.pyplot as plt\n",
    "plt.plot(df)"
   ]
  },
  {
   "cell_type": "code",
   "execution_count": 59,
   "id": "f5165084",
   "metadata": {},
   "outputs": [],
   "source": [
    "from sklearn.preprocessing import MinMaxScaler\n",
    "scaler=MinMaxScaler(feature_range=(0,1))\n",
    "df1=scaler.fit_transform(np.array(df).reshape(-1,1))"
   ]
  },
  {
   "cell_type": "code",
   "execution_count": 60,
   "id": "c07577ea",
   "metadata": {},
   "outputs": [],
   "source": [
    "##splitting dataset into train and test split\n",
    "training_size=int(len(df1)*0.65)\n",
    "test_size=len(df1)-training_size\n",
    "train_data,test_data=df1[0:training_size,:],df1[training_size:len(df1),:1]"
   ]
  },
  {
   "cell_type": "code",
   "execution_count": 61,
   "id": "6303d5f4",
   "metadata": {},
   "outputs": [
    {
     "name": "stdout",
     "output_type": "stream",
     "text": [
      "818\n",
      "441\n"
     ]
    }
   ],
   "source": [
    "print(len(train_data))\n",
    "print(len(test_data))"
   ]
  },
  {
   "cell_type": "code",
   "execution_count": null,
   "id": "a1c0cd52",
   "metadata": {},
   "outputs": [],
   "source": [
    "import numpy\n",
    "# convert an array of values into a dataset matrix\n",
    "def create_dataset(dataset, time_step=1):\n",
    "    dataX, dataY = [], []\n",
    "    for i in range(len(dataset)-time_step-1):\n",
    "        a = dataset[i:(i+time_step), 0]   \n",
    "        dataX.append(a)\n",
    "        dataY.append(dataset[i + time_step, 0])\n",
    "    return numpy.array(dataX), numpy.array(dataY)"
   ]
  },
  {
   "cell_type": "code",
   "execution_count": 63,
   "id": "adcf8137",
   "metadata": {},
   "outputs": [],
   "source": [
    "time_step = 100\n",
    "X_train, Y_train = create_dataset(train_data, time_step)\n",
    "X_test, Y_test = create_dataset(test_data, time_step)"
   ]
  },
  {
   "cell_type": "code",
   "execution_count": 64,
   "id": "8b668676",
   "metadata": {},
   "outputs": [],
   "source": [
    "X_test, Y_test = create_dataset(test_data, time_step)"
   ]
  },
  {
   "cell_type": "code",
   "execution_count": 65,
   "id": "3f978895",
   "metadata": {},
   "outputs": [
    {
     "name": "stdout",
     "output_type": "stream",
     "text": [
      "[[0.83081395 0.83255814 0.8122093  0.83313953 0.8372093  0.77093023\n",
      "  0.78895349 0.77034884 0.74709302 0.76627907 0.75872093 0.7255814\n",
      "  0.75872093 0.75813953 0.78372093 0.7505814  0.74302326 0.75290698\n",
      "  0.73081395 0.70348837 0.66802326 0.65348837 0.61918605 0.65348837\n",
      "  0.67616279 0.65174419 0.66860465 0.63081395 0.64069767 0.67093023\n",
      "  0.65523256 0.64593023 0.56162791 0.6005814  0.66453488 0.63081395\n",
      "  0.63430233 0.68604651 0.69651163 0.67267442 0.65290698 0.66686047\n",
      "  0.63953488 0.64302326 0.66918605 0.69011628 0.6877907  0.67674419\n",
      "  0.68953488 0.66860465 0.64302326 0.63546512 0.62674419 0.59360465\n",
      "  0.60581395 0.60348837 0.61686047 0.63139535 0.65290698 0.63139535\n",
      "  0.63953488 0.64244186 0.64593023 0.62906977 0.6005814  0.57848837\n",
      "  0.55697674 0.57151163 0.56976744 0.53604651 0.52906977 0.52093023\n",
      "  0.49302326 0.49476744 0.52093023 0.52325581 0.50406977 0.50581395\n",
      "  0.50174419 0.49476744 0.49127907 0.48953488 0.49593023 0.50523256\n",
      "  0.52732558 0.52267442 0.54302326 0.53604651 0.55232558 0.59534884\n",
      "  0.5994186  0.59302326 0.5872093  0.56162791 0.52383721 0.50406977\n",
      "  0.49767442 0.51162791 0.51686047 0.54418605]\n",
      " [0.83255814 0.8122093  0.83313953 0.8372093  0.77093023 0.78895349\n",
      "  0.77034884 0.74709302 0.76627907 0.75872093 0.7255814  0.75872093\n",
      "  0.75813953 0.78372093 0.7505814  0.74302326 0.75290698 0.73081395\n",
      "  0.70348837 0.66802326 0.65348837 0.61918605 0.65348837 0.67616279\n",
      "  0.65174419 0.66860465 0.63081395 0.64069767 0.67093023 0.65523256\n",
      "  0.64593023 0.56162791 0.6005814  0.66453488 0.63081395 0.63430233\n",
      "  0.68604651 0.69651163 0.67267442 0.65290698 0.66686047 0.63953488\n",
      "  0.64302326 0.66918605 0.69011628 0.6877907  0.67674419 0.68953488\n",
      "  0.66860465 0.64302326 0.63546512 0.62674419 0.59360465 0.60581395\n",
      "  0.60348837 0.61686047 0.63139535 0.65290698 0.63139535 0.63953488\n",
      "  0.64244186 0.64593023 0.62906977 0.6005814  0.57848837 0.55697674\n",
      "  0.57151163 0.56976744 0.53604651 0.52906977 0.52093023 0.49302326\n",
      "  0.49476744 0.52093023 0.52325581 0.50406977 0.50581395 0.50174419\n",
      "  0.49476744 0.49127907 0.48953488 0.49593023 0.50523256 0.52732558\n",
      "  0.52267442 0.54302326 0.53604651 0.55232558 0.59534884 0.5994186\n",
      "  0.59302326 0.5872093  0.56162791 0.52383721 0.50406977 0.49767442\n",
      "  0.51162791 0.51686047 0.54418605 0.55872093]\n",
      " [0.8122093  0.83313953 0.8372093  0.77093023 0.78895349 0.77034884\n",
      "  0.74709302 0.76627907 0.75872093 0.7255814  0.75872093 0.75813953\n",
      "  0.78372093 0.7505814  0.74302326 0.75290698 0.73081395 0.70348837\n",
      "  0.66802326 0.65348837 0.61918605 0.65348837 0.67616279 0.65174419\n",
      "  0.66860465 0.63081395 0.64069767 0.67093023 0.65523256 0.64593023\n",
      "  0.56162791 0.6005814  0.66453488 0.63081395 0.63430233 0.68604651\n",
      "  0.69651163 0.67267442 0.65290698 0.66686047 0.63953488 0.64302326\n",
      "  0.66918605 0.69011628 0.6877907  0.67674419 0.68953488 0.66860465\n",
      "  0.64302326 0.63546512 0.62674419 0.59360465 0.60581395 0.60348837\n",
      "  0.61686047 0.63139535 0.65290698 0.63139535 0.63953488 0.64244186\n",
      "  0.64593023 0.62906977 0.6005814  0.57848837 0.55697674 0.57151163\n",
      "  0.56976744 0.53604651 0.52906977 0.52093023 0.49302326 0.49476744\n",
      "  0.52093023 0.52325581 0.50406977 0.50581395 0.50174419 0.49476744\n",
      "  0.49127907 0.48953488 0.49593023 0.50523256 0.52732558 0.52267442\n",
      "  0.54302326 0.53604651 0.55232558 0.59534884 0.5994186  0.59302326\n",
      "  0.5872093  0.56162791 0.52383721 0.50406977 0.49767442 0.51162791\n",
      "  0.51686047 0.54418605 0.55872093 0.55639535]\n",
      " [0.83313953 0.8372093  0.77093023 0.78895349 0.77034884 0.74709302\n",
      "  0.76627907 0.75872093 0.7255814  0.75872093 0.75813953 0.78372093\n",
      "  0.7505814  0.74302326 0.75290698 0.73081395 0.70348837 0.66802326\n",
      "  0.65348837 0.61918605 0.65348837 0.67616279 0.65174419 0.66860465\n",
      "  0.63081395 0.64069767 0.67093023 0.65523256 0.64593023 0.56162791\n",
      "  0.6005814  0.66453488 0.63081395 0.63430233 0.68604651 0.69651163\n",
      "  0.67267442 0.65290698 0.66686047 0.63953488 0.64302326 0.66918605\n",
      "  0.69011628 0.6877907  0.67674419 0.68953488 0.66860465 0.64302326\n",
      "  0.63546512 0.62674419 0.59360465 0.60581395 0.60348837 0.61686047\n",
      "  0.63139535 0.65290698 0.63139535 0.63953488 0.64244186 0.64593023\n",
      "  0.62906977 0.6005814  0.57848837 0.55697674 0.57151163 0.56976744\n",
      "  0.53604651 0.52906977 0.52093023 0.49302326 0.49476744 0.52093023\n",
      "  0.52325581 0.50406977 0.50581395 0.50174419 0.49476744 0.49127907\n",
      "  0.48953488 0.49593023 0.50523256 0.52732558 0.52267442 0.54302326\n",
      "  0.53604651 0.55232558 0.59534884 0.5994186  0.59302326 0.5872093\n",
      "  0.56162791 0.52383721 0.50406977 0.49767442 0.51162791 0.51686047\n",
      "  0.54418605 0.55872093 0.55639535 0.56802326]\n",
      " [0.8372093  0.77093023 0.78895349 0.77034884 0.74709302 0.76627907\n",
      "  0.75872093 0.7255814  0.75872093 0.75813953 0.78372093 0.7505814\n",
      "  0.74302326 0.75290698 0.73081395 0.70348837 0.66802326 0.65348837\n",
      "  0.61918605 0.65348837 0.67616279 0.65174419 0.66860465 0.63081395\n",
      "  0.64069767 0.67093023 0.65523256 0.64593023 0.56162791 0.6005814\n",
      "  0.66453488 0.63081395 0.63430233 0.68604651 0.69651163 0.67267442\n",
      "  0.65290698 0.66686047 0.63953488 0.64302326 0.66918605 0.69011628\n",
      "  0.6877907  0.67674419 0.68953488 0.66860465 0.64302326 0.63546512\n",
      "  0.62674419 0.59360465 0.60581395 0.60348837 0.61686047 0.63139535\n",
      "  0.65290698 0.63139535 0.63953488 0.64244186 0.64593023 0.62906977\n",
      "  0.6005814  0.57848837 0.55697674 0.57151163 0.56976744 0.53604651\n",
      "  0.52906977 0.52093023 0.49302326 0.49476744 0.52093023 0.52325581\n",
      "  0.50406977 0.50581395 0.50174419 0.49476744 0.49127907 0.48953488\n",
      "  0.49593023 0.50523256 0.52732558 0.52267442 0.54302326 0.53604651\n",
      "  0.55232558 0.59534884 0.5994186  0.59302326 0.5872093  0.56162791\n",
      "  0.52383721 0.50406977 0.49767442 0.51162791 0.51686047 0.54418605\n",
      "  0.55872093 0.55639535 0.56802326 0.59476744]\n",
      " [0.77093023 0.78895349 0.77034884 0.74709302 0.76627907 0.75872093\n",
      "  0.7255814  0.75872093 0.75813953 0.78372093 0.7505814  0.74302326\n",
      "  0.75290698 0.73081395 0.70348837 0.66802326 0.65348837 0.61918605\n",
      "  0.65348837 0.67616279 0.65174419 0.66860465 0.63081395 0.64069767\n",
      "  0.67093023 0.65523256 0.64593023 0.56162791 0.6005814  0.66453488\n",
      "  0.63081395 0.63430233 0.68604651 0.69651163 0.67267442 0.65290698\n",
      "  0.66686047 0.63953488 0.64302326 0.66918605 0.69011628 0.6877907\n",
      "  0.67674419 0.68953488 0.66860465 0.64302326 0.63546512 0.62674419\n",
      "  0.59360465 0.60581395 0.60348837 0.61686047 0.63139535 0.65290698\n",
      "  0.63139535 0.63953488 0.64244186 0.64593023 0.62906977 0.6005814\n",
      "  0.57848837 0.55697674 0.57151163 0.56976744 0.53604651 0.52906977\n",
      "  0.52093023 0.49302326 0.49476744 0.52093023 0.52325581 0.50406977\n",
      "  0.50581395 0.50174419 0.49476744 0.49127907 0.48953488 0.49593023\n",
      "  0.50523256 0.52732558 0.52267442 0.54302326 0.53604651 0.55232558\n",
      "  0.59534884 0.5994186  0.59302326 0.5872093  0.56162791 0.52383721\n",
      "  0.50406977 0.49767442 0.51162791 0.51686047 0.54418605 0.55872093\n",
      "  0.55639535 0.56802326 0.59476744 0.55872093]\n",
      " [0.78895349 0.77034884 0.74709302 0.76627907 0.75872093 0.7255814\n",
      "  0.75872093 0.75813953 0.78372093 0.7505814  0.74302326 0.75290698\n",
      "  0.73081395 0.70348837 0.66802326 0.65348837 0.61918605 0.65348837\n",
      "  0.67616279 0.65174419 0.66860465 0.63081395 0.64069767 0.67093023\n",
      "  0.65523256 0.64593023 0.56162791 0.6005814  0.66453488 0.63081395\n",
      "  0.63430233 0.68604651 0.69651163 0.67267442 0.65290698 0.66686047\n",
      "  0.63953488 0.64302326 0.66918605 0.69011628 0.6877907  0.67674419\n",
      "  0.68953488 0.66860465 0.64302326 0.63546512 0.62674419 0.59360465\n",
      "  0.60581395 0.60348837 0.61686047 0.63139535 0.65290698 0.63139535\n",
      "  0.63953488 0.64244186 0.64593023 0.62906977 0.6005814  0.57848837\n",
      "  0.55697674 0.57151163 0.56976744 0.53604651 0.52906977 0.52093023\n",
      "  0.49302326 0.49476744 0.52093023 0.52325581 0.50406977 0.50581395\n",
      "  0.50174419 0.49476744 0.49127907 0.48953488 0.49593023 0.50523256\n",
      "  0.52732558 0.52267442 0.54302326 0.53604651 0.55232558 0.59534884\n",
      "  0.5994186  0.59302326 0.5872093  0.56162791 0.52383721 0.50406977\n",
      "  0.49767442 0.51162791 0.51686047 0.54418605 0.55872093 0.55639535\n",
      "  0.56802326 0.59476744 0.55872093 0.55581395]\n",
      " [0.77034884 0.74709302 0.76627907 0.75872093 0.7255814  0.75872093\n",
      "  0.75813953 0.78372093 0.7505814  0.74302326 0.75290698 0.73081395\n",
      "  0.70348837 0.66802326 0.65348837 0.61918605 0.65348837 0.67616279\n",
      "  0.65174419 0.66860465 0.63081395 0.64069767 0.67093023 0.65523256\n",
      "  0.64593023 0.56162791 0.6005814  0.66453488 0.63081395 0.63430233\n",
      "  0.68604651 0.69651163 0.67267442 0.65290698 0.66686047 0.63953488\n",
      "  0.64302326 0.66918605 0.69011628 0.6877907  0.67674419 0.68953488\n",
      "  0.66860465 0.64302326 0.63546512 0.62674419 0.59360465 0.60581395\n",
      "  0.60348837 0.61686047 0.63139535 0.65290698 0.63139535 0.63953488\n",
      "  0.64244186 0.64593023 0.62906977 0.6005814  0.57848837 0.55697674\n",
      "  0.57151163 0.56976744 0.53604651 0.52906977 0.52093023 0.49302326\n",
      "  0.49476744 0.52093023 0.52325581 0.50406977 0.50581395 0.50174419\n",
      "  0.49476744 0.49127907 0.48953488 0.49593023 0.50523256 0.52732558\n",
      "  0.52267442 0.54302326 0.53604651 0.55232558 0.59534884 0.5994186\n",
      "  0.59302326 0.5872093  0.56162791 0.52383721 0.50406977 0.49767442\n",
      "  0.51162791 0.51686047 0.54418605 0.55872093 0.55639535 0.56802326\n",
      "  0.59476744 0.55872093 0.55581395 0.54709302]\n",
      " [0.74709302 0.76627907 0.75872093 0.7255814  0.75872093 0.75813953\n",
      "  0.78372093 0.7505814  0.74302326 0.75290698 0.73081395 0.70348837\n",
      "  0.66802326 0.65348837 0.61918605 0.65348837 0.67616279 0.65174419\n",
      "  0.66860465 0.63081395 0.64069767 0.67093023 0.65523256 0.64593023\n",
      "  0.56162791 0.6005814  0.66453488 0.63081395 0.63430233 0.68604651\n",
      "  0.69651163 0.67267442 0.65290698 0.66686047 0.63953488 0.64302326\n",
      "  0.66918605 0.69011628 0.6877907  0.67674419 0.68953488 0.66860465\n",
      "  0.64302326 0.63546512 0.62674419 0.59360465 0.60581395 0.60348837\n",
      "  0.61686047 0.63139535 0.65290698 0.63139535 0.63953488 0.64244186\n",
      "  0.64593023 0.62906977 0.6005814  0.57848837 0.55697674 0.57151163\n",
      "  0.56976744 0.53604651 0.52906977 0.52093023 0.49302326 0.49476744\n",
      "  0.52093023 0.52325581 0.50406977 0.50581395 0.50174419 0.49476744\n",
      "  0.49127907 0.48953488 0.49593023 0.50523256 0.52732558 0.52267442\n",
      "  0.54302326 0.53604651 0.55232558 0.59534884 0.5994186  0.59302326\n",
      "  0.5872093  0.56162791 0.52383721 0.50406977 0.49767442 0.51162791\n",
      "  0.51686047 0.54418605 0.55872093 0.55639535 0.56802326 0.59476744\n",
      "  0.55872093 0.55581395 0.54709302 0.54767442]\n",
      " [0.76627907 0.75872093 0.7255814  0.75872093 0.75813953 0.78372093\n",
      "  0.7505814  0.74302326 0.75290698 0.73081395 0.70348837 0.66802326\n",
      "  0.65348837 0.61918605 0.65348837 0.67616279 0.65174419 0.66860465\n",
      "  0.63081395 0.64069767 0.67093023 0.65523256 0.64593023 0.56162791\n",
      "  0.6005814  0.66453488 0.63081395 0.63430233 0.68604651 0.69651163\n",
      "  0.67267442 0.65290698 0.66686047 0.63953488 0.64302326 0.66918605\n",
      "  0.69011628 0.6877907  0.67674419 0.68953488 0.66860465 0.64302326\n",
      "  0.63546512 0.62674419 0.59360465 0.60581395 0.60348837 0.61686047\n",
      "  0.63139535 0.65290698 0.63139535 0.63953488 0.64244186 0.64593023\n",
      "  0.62906977 0.6005814  0.57848837 0.55697674 0.57151163 0.56976744\n",
      "  0.53604651 0.52906977 0.52093023 0.49302326 0.49476744 0.52093023\n",
      "  0.52325581 0.50406977 0.50581395 0.50174419 0.49476744 0.49127907\n",
      "  0.48953488 0.49593023 0.50523256 0.52732558 0.52267442 0.54302326\n",
      "  0.53604651 0.55232558 0.59534884 0.5994186  0.59302326 0.5872093\n",
      "  0.56162791 0.52383721 0.50406977 0.49767442 0.51162791 0.51686047\n",
      "  0.54418605 0.55872093 0.55639535 0.56802326 0.59476744 0.55872093\n",
      "  0.55581395 0.54709302 0.54767442 0.52616279]]\n"
     ]
    }
   ],
   "source": [
    "print(X_test[:10])"
   ]
  },
  {
   "cell_type": "code",
   "execution_count": 66,
   "id": "ffacb52d",
   "metadata": {},
   "outputs": [
    {
     "name": "stdout",
     "output_type": "stream",
     "text": [
      "(717,)\n"
     ]
    }
   ],
   "source": [
    "print(Y_train.shape)"
   ]
  },
  {
   "cell_type": "markdown",
   "id": "413fa1b1",
   "metadata": {},
   "source": [
    "# Step 2: LSTM "
   ]
  },
  {
   "cell_type": "code",
   "execution_count": 67,
   "id": "410052f7",
   "metadata": {},
   "outputs": [],
   "source": [
    "import torch \n",
    "import torch.nn as nn\n",
    "import torch.nn.functional as F\n",
    "from torch.optim import Adam "
   ]
  },
  {
   "cell_type": "code",
   "execution_count": 68,
   "id": "4e909993",
   "metadata": {},
   "outputs": [],
   "source": [
    "import lightning as L\n",
    "from torch.utils.data import TensorDataset, DataLoader"
   ]
  },
  {
   "cell_type": "code",
   "execution_count": null,
   "id": "83031625",
   "metadata": {},
   "outputs": [],
   "source": [
    "class LightningLSTM(L.LightningModule):\n",
    "\n",
    "    def __init__(self): \n",
    "        \n",
    "        super().__init__() \n",
    "    \n",
    "        self.lstm = nn.LSTM(input_size=1, hidden_size=1) \n",
    "        \n",
    "\n",
    "    def forward(self, input):\n",
    "        ## transpose the input vector\n",
    "        input_trans = input.view(len(input), 1)\n",
    "        \n",
    "        lstm_out, temp = self.lstm(input_trans)\n",
    "        \n",
    "        prediction = lstm_out[-1] \n",
    "        return prediction\n",
    "        \n",
    "        \n",
    "    def configure_optimizers(self):\n",
    "        return Adam(self.parameters(), lr=0.0001) \n",
    "\n",
    "    \n",
    "    def training_step(self, batch, batch_idx): \n",
    "        input_i, label_i = batch \n",
    "        output_i = self.forward(input_i[0]) \n",
    "        loss = (output_i - label_i)**2 \n",
    "        \n",
    "        self.log(\"train_loss\", loss)\n",
    "        \n",
    "        self.log(\"output\", output_i)\n",
    "        \n",
    "        return loss"
   ]
  },
  {
   "cell_type": "markdown",
   "id": "3604b83c",
   "metadata": {},
   "source": [
    "# Step 3: Model Training "
   ]
  },
  {
   "cell_type": "code",
   "execution_count": null,
   "id": "045c21f2",
   "metadata": {},
   "outputs": [],
   "source": [
    "inputs = torch.tensor(X_train.tolist())\n",
    "labels = torch.tensor(Y_train.tolist())\n",
    "\n",
    "dataset = TensorDataset(inputs, labels) \n",
    "dataloader = DataLoader(dataset)"
   ]
  },
  {
   "cell_type": "code",
   "execution_count": 71,
   "id": "95652a60",
   "metadata": {},
   "outputs": [
    {
     "name": "stderr",
     "output_type": "stream",
     "text": [
      "GPU available: False, used: False\n",
      "TPU available: False, using: 0 TPU cores\n",
      "HPU available: False, using: 0 HPUs\n",
      "\n",
      "  | Name | Type | Params | Mode \n",
      "--------------------------------------\n",
      "0 | lstm | LSTM | 16     | train\n",
      "--------------------------------------\n",
      "16        Trainable params\n",
      "0         Non-trainable params\n",
      "16        Total params\n",
      "0.000     Total estimated model params size (MB)\n",
      "1         Modules in train mode\n",
      "0         Modules in eval mode\n",
      "C:\\Users\\lenovo\\AppData\\Roaming\\Python\\Python312\\site-packages\\lightning\\pytorch\\trainer\\connectors\\data_connector.py:424: The 'train_dataloader' does not have many workers which may be a bottleneck. Consider increasing the value of the `num_workers` argument` to `num_workers=15` in the `DataLoader` to improve performance.\n"
     ]
    },
    {
     "name": "stdout",
     "output_type": "stream",
     "text": [
      "Epoch 199: 100%|██████████| 717/717 [00:03<00:00, 205.40it/s, v_num=1]"
     ]
    },
    {
     "name": "stderr",
     "output_type": "stream",
     "text": [
      "`Trainer.fit` stopped: `max_epochs=200` reached.\n"
     ]
    },
    {
     "name": "stdout",
     "output_type": "stream",
     "text": [
      "Epoch 199: 100%|██████████| 717/717 [00:03<00:00, 204.49it/s, v_num=1]\n"
     ]
    }
   ],
   "source": [
    "model = LightningLSTM()\n",
    "\n",
    "trainer = L.Trainer(max_epochs=200, log_every_n_steps=2)\n",
    "trainer.fit(model, train_dataloaders=dataloader)"
   ]
  },
  {
   "cell_type": "code",
   "execution_count": 72,
   "id": "1d62b454",
   "metadata": {},
   "outputs": [],
   "source": [
    "def prediction(input):\n",
    "    predicted_values = []\n",
    "    for i in range(len(input)):\n",
    "        x = model.forward(torch.tensor(input[i]).detach())\n",
    "        predicted_values.append((x.detach()).item())\n",
    "    return predicted_values"
   ]
  },
  {
   "cell_type": "code",
   "execution_count": 73,
   "id": "07c84169",
   "metadata": {},
   "outputs": [],
   "source": [
    "def mean_square_error(predicted_values, actual_values):\n",
    "    \n",
    "    Len = len(actual_values)\n",
    "    mse = 0\n",
    "    for i in range(Len):\n",
    "        mse += (actual_values[i] - predicted_values[i])**2\n",
    "    mse/=Len       \n",
    "    return mse"
   ]
  },
  {
   "cell_type": "code",
   "execution_count": 74,
   "id": "ee5d5830",
   "metadata": {},
   "outputs": [],
   "source": [
    "predicted_values = prediction(X_test.tolist())"
   ]
  },
  {
   "cell_type": "code",
   "execution_count": 75,
   "id": "24b76905",
   "metadata": {},
   "outputs": [
    {
     "name": "stdout",
     "output_type": "stream",
     "text": [
      "340\n"
     ]
    }
   ],
   "source": [
    "print(len(Y_test))"
   ]
  },
  {
   "cell_type": "code",
   "execution_count": 76,
   "id": "382cca78",
   "metadata": {},
   "outputs": [
    {
     "name": "stdout",
     "output_type": "stream",
     "text": [
      "0.0007195378009081114\n"
     ]
    }
   ],
   "source": [
    "print(mean_square_error(predicted_values, Y_test))"
   ]
  },
  {
   "cell_type": "code",
   "execution_count": 77,
   "id": "2c0b2e7e",
   "metadata": {},
   "outputs": [],
   "source": [
    "predicted_values=scaler.inverse_transform(np.array(predicted_values).reshape(-1, 1))\n",
    "Y_test=scaler.inverse_transform(np.array(Y_test).reshape(-1, 1))"
   ]
  },
  {
   "cell_type": "markdown",
   "id": "9d274bee",
   "metadata": {},
   "source": [
    "# Plot of Predicted values and Actual values"
   ]
  },
  {
   "cell_type": "code",
   "execution_count": 78,
   "id": "d317a898",
   "metadata": {},
   "outputs": [
    {
     "data": {
      "image/png": "[encoded data removed]",
      "text/plain": [
       "<Figure size 640x480 with 1 Axes>"
      ]
     },
     "metadata": {},
     "output_type": "display_data"
    }
   ],
   "source": [
    "x = np.linspace(0, 1, 340)\n",
    "\n",
    "# Plot the first set of data in blue\n",
    "plt.plot(x, Y_test, label='Actual Value', color='blue')\n",
    "\n",
    "# Plot the second set of data in red\n",
    "plt.plot(x, predicted_values, label='Predicted Value', color='red')\n",
    "\n",
    "# Add labels and a legend\n",
    "plt.xlabel('X-axis')\n",
    "plt.ylabel('Y-axis')\n",
    "plt.legend()\n",
    "\n",
    "# Display the plot\n",
    "plt.show()"
   ]
  },
  {
   "cell_type": "code",
   "execution_count": null,
   "id": "ed032408",
   "metadata": {},
   "outputs": [],
   "source": []
  }
 ],
 "metadata": {
  "kernelspec": {
   "display_name": "Python 3",
   "language": "python",
   "name": "python3"
  },
  "language_info": {
   "codemirror_mode": {
    "name": "ipython",
    "version": 3
   },
   "file_extension": ".py",
   "mimetype": "text/x-python",
   "name": "python",
   "nbconvert_exporter": "python",
   "pygments_lexer": "ipython3",
   "version": "3.12.1"
  }
 },
 "nbformat": 4,
 "nbformat_minor": 5
}
